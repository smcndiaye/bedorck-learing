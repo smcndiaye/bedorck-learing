{
 "cells": [
  {
   "cell_type": "code",
   "execution_count": 1,
   "metadata": {},
   "outputs": [],
   "source": [
    "import os\n",
    "import boto3\n",
    "import json\n",
    "import pprint\n",
    "from utility import create_bedrock_execution_role,create_oss_policy_attach_bedrock_execution_role,create_policies_in_oss,interactive_sleep\n",
    "from botocore.exceptions import ClientError\n",
    "from retrying import retry\n",
    "import random\n",
    "\n"
   ]
  },
  {
   "cell_type": "code",
   "execution_count": 2,
   "metadata": {},
   "outputs": [],
   "source": [
    "import boto3.session\n",
    "\n",
    "\n",
    "suffix = random.randrange(200,900)\n",
    "sts_client = boto3.client('sts')\n",
    "#Get region name\n",
    "boto3_session = boto3.session.Session()\n",
    "region_name = boto3_session.region_name\n",
    "# Bedrock agent \n",
    "bedrock_agent_client = boto3_session.client('bedrock-agent',region_name=region_name)\n",
    "service ='aoss'\n",
    "## S3 client \n",
    "s3_client = boto3.client('s3')\n",
    "#Get Account ID\n",
    "account_id = sts_client.get_caller_identity()['Account']\n",
    "s3_suffix = f'{region_name}-{account_id}'\n",
    "bucket_name = f'bedrock-kb-{s3_suffix}'\n",
    "pp = pprint.PrettyPrinter(indent=2)\n",
    "\n",
    "\n"
   ]
  },
  {
   "cell_type": "code",
   "execution_count": 3,
   "metadata": {},
   "outputs": [
    {
     "data": {
      "text/plain": [
       "'bedrock-kb-us-east-1-954976291351'"
      ]
     },
     "execution_count": 3,
     "metadata": {},
     "output_type": "execute_result"
    }
   ],
   "source": [
    "bucket_name"
   ]
  },
  {
   "cell_type": "code",
   "execution_count": 5,
   "metadata": {},
   "outputs": [
    {
     "name": "stdout",
     "output_type": "stream",
     "text": [
      " Here is a poem in iambic pentameter on generative AI, written in the style of Shakespeare:\n",
      "\n",
      "O wondrous technology, Generative AI\n",
      "That seeks to mimic man's creativity.\n",
      "With algorithms complex, patterns you spy,\n",
      "And words poetic from nothingness pry.\n",
      "\n",
      "Thou art a marvel of modernity, \n",
      "Yet but a simulation of humanity.\n",
      "Try as thee might to match our ingenious spark,\n",
      "Thine outputs derivative, missing the mark.\n",
      "\n",
      "And yet some potential in thee I spy,\n",
      "To complement man with inventions sly.\n",
      "Not to replace us, but by our side stand,\n",
      "Expanding horizons by thy digital hand.\n",
      "\n",
      "So Generative AI, know thy rightful place: \n",
      "Not to supplant, but assist the human race.\n",
      "Let's join forces, not compete as bitter rivals, \n",
      "And see what innovative fruits our partnership unravels.\n",
      "\n",
      "I bid thee create with\n"
     ]
    }
   ],
   "source": [
    "prompt_data = \"\"\"\n",
    "\n",
    "Act as Shakespeare and write a poem on generative AI \n",
    "\"\"\"\n",
    "\n",
    "bedrock = boto3.client(service_name='bedrock-runtime')\n",
    "\n",
    "#prompt = \"Hello\"\n",
    "claude_prompt = f\"\\n\\nHuman:{prompt_data}\\n\\nAssistant:\"\n",
    "body = json.dumps({\n",
    "                \"prompt\": claude_prompt,\n",
    "                \"temperature\": 0.5,\n",
    "                \"top_p\": 1,\n",
    "                \"top_k\": 250,\n",
    "                \"max_tokens_to_sample\": 200,\n",
    "                \"stop_sequences\": [\"\\n\\nHuman:\"]\n",
    "                })\n",
    "\n",
    "\n",
    "model_id = \"anthropic.claude-v2:1\"\n",
    "\n",
    "response = bedrock.invoke_model(\n",
    "    body=body,\n",
    "    modelId = \"anthropic.claude-v2:1\",\n",
    "    accept= \"*/*\",\n",
    "    contentType=\"application/json\" )\n",
    "response_body = json.loads(response.get(\"body\").read())\n",
    "print(response_body['completion'])\n"
   ]
  },
  {
   "cell_type": "code",
   "execution_count": null,
   "metadata": {},
   "outputs": [],
   "source": []
  }
 ],
 "metadata": {
  "kernelspec": {
   "display_name": "br",
   "language": "python",
   "name": "python3"
  },
  "language_info": {
   "codemirror_mode": {
    "name": "ipython",
    "version": 3
   },
   "file_extension": ".py",
   "mimetype": "text/x-python",
   "name": "python",
   "nbconvert_exporter": "python",
   "pygments_lexer": "ipython3",
   "version": "3.13.1"
  }
 },
 "nbformat": 4,
 "nbformat_minor": 2
}
