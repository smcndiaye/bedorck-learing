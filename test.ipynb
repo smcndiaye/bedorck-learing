{
 "cells": [
  {
   "cell_type": "code",
   "execution_count": 1,
   "metadata": {},
   "outputs": [],
   "source": [
    "import os\n",
    "import boto3\n",
    "import json\n",
    "import pprint\n",
    "from utility import create_bedrock_execution_role,create_oss_policy_attach_bedrock_execution_role,create_policies_in_oss,interactive_sleep\n",
    "from botocore.exceptions import ClientError\n",
    "from retrying import retry\n",
    "import random\n",
    "\n"
   ]
  },
  {
   "cell_type": "code",
   "execution_count": 6,
   "metadata": {},
   "outputs": [],
   "source": [
    "import boto3.session\n",
    "\n",
    "\n",
    "suffix = random.randrange(200,900)\n",
    "sts_client = boto3.client('sts')\n",
    "#Get region name\n",
    "boto3_session = boto3.session.Session()\n",
    "region_name = boto3_session.region_name\n",
    "# Bedrock agent \n",
    "bedrock_agent_client = boto3_session.client('bedrock-agent',region_name=region_name)\n",
    "service ='aoss'\n",
    "## S3 client \n",
    "s3_client = boto3.client('s3')\n",
    "#Get Account ID\n",
    "account_id = sts_client.get_caller_identity()['Account']\n",
    "s3_suffix = f'{region_name}-{account_id}'\n",
    "bucket_name = f'bedrock-kb-{s3_suffix}'\n",
    "pp = pprint.PrettyPrinter(indent=2)\n",
    "\n",
    "\n"
   ]
  },
  {
   "cell_type": "code",
   "execution_count": 7,
   "metadata": {},
   "outputs": [
    {
     "data": {
      "text/plain": [
       "'bedrock-kb-us-east-1-430118855470'"
      ]
     },
     "execution_count": 7,
     "metadata": {},
     "output_type": "execute_result"
    }
   ],
   "source": [
    "bucket_name"
   ]
  },
  {
   "cell_type": "markdown",
   "metadata": {},
   "source": [
    "# Check if bucket exists, and if not create S3 bucket for knowledge base data source\n"
   ]
  },
  {
   "cell_type": "code",
   "execution_count": 8,
   "metadata": {},
   "outputs": [
    {
     "name": "stdout",
     "output_type": "stream",
     "text": [
      "bedrock-kb-us-east-1-430118855470 Exist !\n"
     ]
    }
   ],
   "source": [
    "try :\n",
    "    s3_client.head_bucket(Bucket=bucket_name)\n",
    "    print(f'{bucket_name} Exist !')\n",
    "except ClientError as e:\n",
    "    print(f'Creating bucket {bucket_name}')\n",
    "    if region_name == 'us-east-1':\n",
    "        s3bucket =s3_client.create_bucket(Bucket = bucket_name)\n",
    "    else:\n",
    "        s3bucket = s3_client.create_bucket(Bucket=bucket_name,\n",
    "                                           CreateBucketConfiguration={'LocationConstrain':region_name})\n"
   ]
  },
  {
   "cell_type": "code",
   "execution_count": 1,
   "metadata": {},
   "outputs": [],
   "source": [
    "import pprint\n",
    "import json\n",
    "import boto3\n",
    "from botocore.exceptions import ClientError\n",
    "import random\n",
    "from utility import create_bedrock_execution_role_multi_ds ,create_oss_policy_attach_bedrock_execution_role,create_policies_in_oss,interactive_sleep\n",
    "from retrying import retry\n",
    "import os\n"
   ]
  },
  {
   "cell_type": "code",
   "execution_count": 2,
   "metadata": {},
   "outputs": [],
   "source": [
    "sts_client  = boto3.client('sts')\n",
    "suffix = random.randrange(200,900)\n",
    "service = 'aoss'\n",
    "boto3_session = boto3.session.Session()\n",
    "region_name = boto3_session.region_name\n",
    "bedrock_agent_client = boto3_session.client('bedrock-agent',region_name=region_name)\n"
   ]
  },
  {
   "cell_type": "markdown",
   "metadata": {},
   "source": [
    "Upload image on S3\n"
   ]
  },
  {
   "cell_type": "code",
   "execution_count": 2,
   "metadata": {},
   "outputs": [],
   "source": [
    "\n",
    "# Let's use Amazon S3\n",
    "s3 = boto3.resource('s3')"
   ]
  },
  {
   "cell_type": "code",
   "execution_count": 6,
   "metadata": {},
   "outputs": [
    {
     "name": "stdout",
     "output_type": "stream",
     "text": [
      "access-log-430118855470us-standard\n",
      "bedrock-kb-us-east-1-430118855470\n",
      "bedrock-video-generation-us-east-1-ip1n64\n"
     ]
    }
   ],
   "source": [
    "for bucket in s3.buckets.all():\n",
    "    print(bucket.name)"
   ]
  },
  {
   "cell_type": "code",
   "execution_count": 7,
   "metadata": {},
   "outputs": [],
   "source": [
    "# Upload a new file\n",
    "with open('tmpznha_pg6.PNG', 'rb') as data:\n",
    "    s3.Bucket('bedrock-video-generation-us-east-1-ip1n64').put_object(Key='tmpznha_pg6.PNG', Body=data)"
   ]
  },
  {
   "cell_type": "code",
   "execution_count": null,
   "metadata": {},
   "outputs": [],
   "source": []
  }
 ],
 "metadata": {
  "kernelspec": {
   "display_name": "br",
   "language": "python",
   "name": "python3"
  },
  "language_info": {
   "codemirror_mode": {
    "name": "ipython",
    "version": 3
   },
   "file_extension": ".py",
   "mimetype": "text/x-python",
   "name": "python",
   "nbconvert_exporter": "python",
   "pygments_lexer": "ipython3",
   "version": "3.13.1"
  }
 },
 "nbformat": 4,
 "nbformat_minor": 2
}
